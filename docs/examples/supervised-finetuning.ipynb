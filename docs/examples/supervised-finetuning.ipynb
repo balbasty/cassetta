{
 "cells": [
  {
   "cell_type": "code",
   "execution_count": 1,
   "metadata": {},
   "outputs": [],
   "source": [
    "import sys\n",
    "sys.path.append('../../')\n",
    "from cassetta.datasets import DummySupervisedDataset\n",
    "from cassetta.training.trainers import SimpleSupervisedTrainer"
   ]
  },
  {
   "cell_type": "markdown",
   "metadata": {},
   "source": [
    "# Warning!\n",
    "Before running _this_ notebook, please follow the instructions in the `docs/examples/supervised-segmentation.ipynb` notebook! We will be fine-tuning the model that was instantiated, trained, and saved in that script."
   ]
  },
  {
   "cell_type": "markdown",
   "metadata": {},
   "source": [
    "# 1 Common variables\n",
    "As per usual, we'll begin by defining the standard variables:\n",
    "1. `device`: This is the device that will be used to preform the data generation and training operations.\n",
    "2. `experiment_dir`: The directory of the experiment in which your saved model lives!"
   ]
  },
  {
   "cell_type": "code",
   "execution_count": 2,
   "metadata": {},
   "outputs": [],
   "source": [
    "device = \"cpu\"\n",
    "experiment_dir = \"../../models/version_1\""
   ]
  },
  {
   "cell_type": "markdown",
   "metadata": {},
   "source": [
    "# 3 Loading the Trainer\n",
    "Didn't think we'd get to loading the trainer that fast, did you?\n",
    "\n",
    "But before we do, this is a friendly reminder that you should have already ran the entire `supervised-segmentation.ipynb` notebook. We will load the trainer from the checkpoint that you saved when you ran that notebook.\n",
    "\n",
    "With cassetta, loading the trainer is as easy as a single line of code! How neat! All you need to do is pass the experiment directory (or a fully qualified checkpoint path), to the `load()` method, and voila! You can also specify if you want the best or the last checkpoint that was saved during your initial training run with the `checkpoint_type` argument."
   ]
  },
  {
   "cell_type": "code",
   "execution_count": 3,
   "metadata": {},
   "outputs": [],
   "source": [
    "trainer = SimpleSupervisedTrainer.load(experiment_dir, checkpoint_type='last')"
   ]
  },
  {
   "cell_type": "markdown",
   "metadata": {},
   "source": [
    "## 3.1 Inspecting the Trainer\n",
    "Let's just inspect the trainer to make sure the important stuff is there!"
   ]
  },
  {
   "cell_type": "code",
   "execution_count": 5,
   "metadata": {},
   "outputs": [
    {
     "name": "stdout",
     "output_type": "stream",
     "text": [
      "TrainerConfig(experiment_dir='../../models/version_1', nb_epochs=2, batch_size=16, lr=0.001, logging_verbosity=1, early_stopping=0, refresh_experiment_dir=True, train_to_val=0.8, num_workers=0)\n",
      "TrainingState(current_epoch=1, current_step=2, epoch_train_loss=2.005740165710449, epoch_eval_loss=2.002977430820465, best_eval_loss=inf)\n",
      "LoadableSegNet(\n",
      "  (0): ConvBlock(\n",
      "    (conv): Conv(1, 64, kernel_size=(3, 3, 3), stride=(1, 1, 1), padding=same)\n",
      "  )\n",
      "  (1): UNet(\n",
      "    (encoder): ConvEncoder(\n",
      "      (0): ConvGroup(\n",
      "        (0): ConvBlock(\n",
      "          (conv): Conv(64, 64, kernel_size=(3, 3, 3), stride=(1, 1, 1), padding=same)\n",
      "          (activation): ReLU()\n",
      "        )\n",
      "        (1): ConvBlock(\n",
      "          (conv): Conv(64, 64, kernel_size=(3, 3, 3), stride=(1, 1, 1), padding=same)\n",
      "          (activation): ReLU()\n",
      "        )\n",
      "      )\n",
      "      (1): DownConvGroup(\n",
      "        (0): DownPool(\n",
      "          (0): MaxPool3d(kernel_size=2, stride=2, padding=0, dilation=1, ceil_mode=False)\n",
      "          (1): Conv3d(64, 128, kernel_size=(1, 1, 1), stride=(1, 1, 1))\n",
      "        )\n",
      "        (1): ConvGroup(\n",
      "          (0): ConvBlock(\n",
      "            (conv): Conv(128, 128, kernel_size=(3, 3, 3), stride=(1, 1, 1), padding=same)\n",
      "            (activation): ReLU()\n",
      "          )\n",
      "          (1): ConvBlock(\n",
      "            (conv): Conv(128, 128, kernel_size=(3, 3, 3), stride=(1, 1, 1), padding=same)\n",
      "            (activation): ReLU()\n",
      "          )\n",
      "        )\n",
      "      )\n",
      "      (2): DownConvGroup(\n",
      "        (0): DownPool(\n",
      "          (0): MaxPool3d(kernel_size=2, stride=2, padding=0, dilation=1, ceil_mode=False)\n",
      "          (1): Conv3d(128, 256, kernel_size=(1, 1, 1), stride=(1, 1, 1))\n",
      "        )\n",
      "        (1): ConvGroup(\n",
      "          (0): ConvBlock(\n",
      "            (conv): Conv(256, 256, kernel_size=(3, 3, 3), stride=(1, 1, 1), padding=same)\n",
      "            (activation): ReLU()\n",
      "          )\n",
      "          (1): ConvBlock(\n",
      "            (conv): Conv(256, 256, kernel_size=(3, 3, 3), stride=(1, 1, 1), padding=same)\n",
      "            (activation): ReLU()\n",
      "          )\n",
      "        )\n",
      "      )\n",
      "      (3): DownConvGroup(\n",
      "        (0): DownPool(\n",
      "          (0): MaxPool3d(kernel_size=2, stride=2, padding=0, dilation=1, ceil_mode=False)\n",
      "          (1): Conv3d(256, 512, kernel_size=(1, 1, 1), stride=(1, 1, 1))\n",
      "        )\n",
      "        (1): ConvGroup(\n",
      "          (0): ConvBlock(\n",
      "            (conv): Conv(512, 512, kernel_size=(3, 3, 3), stride=(1, 1, 1), padding=same)\n",
      "            (activation): ReLU()\n",
      "          )\n",
      "          (1): ConvBlock(\n",
      "            (conv): Conv(512, 512, kernel_size=(3, 3, 3), stride=(1, 1, 1), padding=same)\n",
      "            (activation): ReLU()\n",
      "          )\n",
      "        )\n",
      "      )\n",
      "      (4): DownConvGroup(\n",
      "        (0): DownPool(\n",
      "          (0): MaxPool3d(kernel_size=2, stride=2, padding=0, dilation=1, ceil_mode=False)\n",
      "          (1): Conv3d(512, 1024, kernel_size=(1, 1, 1), stride=(1, 1, 1))\n",
      "        )\n",
      "        (1): ConvGroup(\n",
      "          (0): ConvBlock(\n",
      "            (conv): Conv(1024, 1024, kernel_size=(3, 3, 3), stride=(1, 1, 1), padding=same)\n",
      "            (activation): ReLU()\n",
      "          )\n",
      "          (1): ConvBlock(\n",
      "            (conv): Conv(1024, 1024, kernel_size=(3, 3, 3), stride=(1, 1, 1), padding=same)\n",
      "            (activation): ReLU()\n",
      "          )\n",
      "        )\n",
      "      )\n",
      "    )\n",
      "    (decoder): ConvDecoder(\n",
      "      (0): UpConvGroup(\n",
      "        (0): ConvTranspose3d(1024, 512, kernel_size=(2, 2, 2), stride=(2, 2, 2))\n",
      "        (1): ConvGroup(\n",
      "          (0): ConvBlock(\n",
      "            (conv): Conv(1024, 512, kernel_size=(3, 3, 3), stride=(1, 1, 1), padding=same)\n",
      "            (activation): ReLU()\n",
      "          )\n",
      "          (1): ConvBlock(\n",
      "            (conv): Conv(512, 512, kernel_size=(3, 3, 3), stride=(1, 1, 1), padding=same)\n",
      "            (activation): ReLU()\n",
      "          )\n",
      "        )\n",
      "      )\n",
      "      (1): UpConvGroup(\n",
      "        (0): ConvTranspose3d(512, 256, kernel_size=(2, 2, 2), stride=(2, 2, 2))\n",
      "        (1): ConvGroup(\n",
      "          (0): ConvBlock(\n",
      "            (conv): Conv(512, 256, kernel_size=(3, 3, 3), stride=(1, 1, 1), padding=same)\n",
      "            (activation): ReLU()\n",
      "          )\n",
      "          (1): ConvBlock(\n",
      "            (conv): Conv(256, 256, kernel_size=(3, 3, 3), stride=(1, 1, 1), padding=same)\n",
      "            (activation): ReLU()\n",
      "          )\n",
      "        )\n",
      "      )\n",
      "      (2): UpConvGroup(\n",
      "        (0): ConvTranspose3d(256, 128, kernel_size=(2, 2, 2), stride=(2, 2, 2))\n",
      "        (1): ConvGroup(\n",
      "          (0): ConvBlock(\n",
      "            (conv): Conv(256, 128, kernel_size=(3, 3, 3), stride=(1, 1, 1), padding=same)\n",
      "            (activation): ReLU()\n",
      "          )\n",
      "          (1): ConvBlock(\n",
      "            (conv): Conv(128, 128, kernel_size=(3, 3, 3), stride=(1, 1, 1), padding=same)\n",
      "            (activation): ReLU()\n",
      "          )\n",
      "        )\n",
      "      )\n",
      "      (3): UpConvGroup(\n",
      "        (0): ConvTranspose3d(128, 64, kernel_size=(2, 2, 2), stride=(2, 2, 2))\n",
      "        (1): ConvGroup(\n",
      "          (0): ConvBlock(\n",
      "            (conv): Conv(128, 64, kernel_size=(3, 3, 3), stride=(1, 1, 1), padding=same)\n",
      "            (activation): ReLU()\n",
      "          )\n",
      "          (1): ConvBlock(\n",
      "            (conv): Conv(64, 64, kernel_size=(3, 3, 3), stride=(1, 1, 1), padding=same)\n",
      "            (activation): ReLU()\n",
      "          )\n",
      "        )\n",
      "      )\n",
      "    )\n",
      "  )\n",
      "  (2): ConvBlock(\n",
      "    (conv): Conv(64, 1, kernel_size=(1, 1, 1), stride=(1, 1, 1), padding=same)\n",
      "    (activation): Softmax(dim=1)\n",
      "  )\n",
      ")\n"
     ]
    }
   ],
   "source": [
    "print(trainer.config)\n",
    "print(trainer.training_state)\n",
    "print(trainer.models.main)"
   ]
  },
  {
   "cell_type": "markdown",
   "metadata": {},
   "source": [
    "# 4 Dataset\n",
    "Looks alright to me! If you want, we can train some more, but first we'll have to load up our training set (and dataloaders)."
   ]
  },
  {
   "cell_type": "code",
   "execution_count": 6,
   "metadata": {},
   "outputs": [],
   "source": [
    "# Initialize dataset\n",
    "dataset = DummySupervisedDataset(\n",
    "    x_shape=(1, 32, 32, 32),\n",
    "    y_shape=(1, 32, 32, 32),\n",
    "    n_classes=None,\n",
    "    device=device\n",
    ")\n",
    "\n",
    "# Use the `Trainer` method to initialize the dataloaders from the set.\n",
    "trainer._get_loaders(dataset)"
   ]
  },
  {
   "cell_type": "markdown",
   "metadata": {},
   "source": [
    "# 5 Fine Tuning\n",
    "And as before, we can now train/fine tune our model :)."
   ]
  },
  {
   "cell_type": "code",
   "execution_count": null,
   "metadata": {},
   "outputs": [],
   "source": [
    "trainer.train()"
   ]
  }
 ],
 "metadata": {
  "kernelspec": {
   "display_name": "pytorch",
   "language": "python",
   "name": "python3"
  },
  "language_info": {
   "codemirror_mode": {
    "name": "ipython",
    "version": 3
   },
   "file_extension": ".py",
   "mimetype": "text/x-python",
   "name": "python",
   "nbconvert_exporter": "python",
   "pygments_lexer": "ipython3",
   "version": "3.12.7"
  }
 },
 "nbformat": 4,
 "nbformat_minor": 2
}
